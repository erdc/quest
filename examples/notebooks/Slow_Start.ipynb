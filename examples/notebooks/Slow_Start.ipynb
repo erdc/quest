{
 "cells": [
  {
   "cell_type": "markdown",
   "metadata": {},
   "source": [
    "# Slow Start: A step by step breakdown of the Quickstart example"
   ]
  },
  {
   "cell_type": "markdown",
   "metadata": {},
   "source": [
    "The quickstart example demonstrated the fastest way to download and start working with data using Quest:"
   ]
  },
  {
   "cell_type": "code",
   "execution_count": null,
   "metadata": {},
   "outputs": [],
   "source": [
    "import quest"
   ]
  },
  {
   "cell_type": "code",
   "execution_count": null,
   "metadata": {},
   "outputs": [],
   "source": [
    "data = quest.api.get_data(\n",
    "    collection_name='quick-start',\n",
    "    service_uri='svc://usgs-nwis:iv',\n",
    "    search_filters={'bbox': [-91, 32.25, -90.8, 32.4]},\n",
    "    download_options={'parameter': 'streamflow'},\n",
    ")[0]\n",
    "data.head()"
   ]
  },
  {
   "cell_type": "markdown",
   "metadata": {},
   "source": [
    "There is a lot going on in this seemingly simple example, so we're going to break it down and explain every step.\n",
    "\n",
    "The first thing to note is that the function ``quest.api.get_data``, is a workflow function, or in other words a\n",
    "function that calls several other functions in succession. This provides a convenient way to get your data in one step\n",
    "when you already know all of inputs you need. You can also use Quest to do the same workflow in a more interactive way.\n",
    "The ``quest.api.get_data`` call performs the following steps behind the scenes:\n",
    "\n",
    "  1. [Create a Collection](#Create-a-Collection)\n",
    "  2. [Select a Data Service](#Select-a-Data-Service)\n",
    "  3. [Search for Datasets](#Search-for-Datasets)\n",
    "  4. [Add Datasets to Collection](#Add-Datasets-to-Collection)\n",
    "  5. [Download Datasets](#Download-Datasets)\n",
    "  6. [Open Datasets](#Open-Datasets)\n",
    "\n",
    "The following sections will explain each of these steps in detail."
   ]
  },
  {
   "cell_type": "markdown",
   "metadata": {},
   "source": [
    "## Create a Collection"
   ]
  },
  {
   "cell_type": "markdown",
   "metadata": {},
   "source": [
    "When Quest downloads data it needs to know where to put them. To keep data organized Quest provides a local organization\n",
    "hierarchy to manage data (see :ref:`core-concepts-data-organization`). At the top of the hierarchy is a :term:`project`, and all Quest calls\n",
    "will always apply to whatever project is active. For more details about managing projects see (:ref:`examples-manage-projects`).\n",
    "Within :term:`projects` are :term:`collections` . All data that are downloaded by Quest are put in a :term:`collection` . In the\n",
    ":func:`quest.api.get_data` example above the ``collection_name`` argument specifies which :term:`collection` to put the data\n",
    "in. If there isn't already a :term:`collection` with the name specified by the ``collection_name`` argument then ``get_data``\n",
    "function will create it.\n",
    "\n",
    "This process can also be done manually. Using the Quest API we can get a list of the collections with the\n",
    ":func:`quest.api.get_collection` function:"
   ]
  },
  {
   "cell_type": "code",
   "execution_count": null,
   "metadata": {},
   "outputs": [],
   "source": [
    "collections = quest.api.get_collections()\n",
    "collections"
   ]
  },
  {
   "cell_type": "markdown",
   "metadata": {},
   "source": [
    "The collection called \"quick-start\" that was created as a result of the ``get_data``\n",
    "call made previously.  To create a new collection we manually we can use the :func:`quest.api.new_collection` function:"
   ]
  },
  {
   "cell_type": "code",
   "execution_count": null,
   "metadata": {},
   "outputs": [],
   "source": [
    "new_collection = quest.api.new_collection('slow-start', exists_ok=True)\n",
    "new_collection"
   ]
  },
  {
   "cell_type": "markdown",
   "metadata": {},
   "source": [
    "This function returns the metadata that is associated with this newly created collection. For more details about working\n",
    "with collection see :ref:`examples-manage-collections`."
   ]
  },
  {
   "cell_type": "markdown",
   "metadata": {},
   "source": [
    "## Select a Data Service"
   ]
  },
  {
   "cell_type": "markdown",
   "metadata": {},
   "source": [
    "Once we have a place to store data locally we need to decide what data we want to download. Quest provides the ability\n",
    "to search for data among many different data sources, or :term:`providers`. Each :term:`provider` will offer one or more data\n",
    ":term:`services` (see :ref:`core-concepts-data-repositories`). We can list the available :term:`services` by calling\n",
    ":func:`quest.api.get_services`:"
   ]
  },
  {
   "cell_type": "code",
   "execution_count": null,
   "metadata": {},
   "outputs": [],
   "source": [
    "quest.api.get_services()"
   ]
  },
  {
   "cell_type": "markdown",
   "metadata": {},
   "source": [
    "Each :term:`service` is represented by a service URI. In our quickstart example we used the penultimate service URI listed\n",
    "here: 'svc://usgs-nwis:iv'. This service URI is needed to tell Quest where to search for data."
   ]
  },
  {
   "cell_type": "markdown",
   "metadata": {},
   "source": [
    "## Search for Datasets"
   ]
  },
  {
   "cell_type": "markdown",
   "metadata": {},
   "source": [
    "Each :term:`service` has a :term:`catalog` or listing of the data it provides. To search for data we need to tell Quest which\n",
    "service's or services' catalog to search. To limit our search we can pass in a dictionary of key-value pairs that specify\n",
    "filter criteria to filter the catalog entries by. In the quickstart example we filtered the catalog using a bounding box.\n",
    "\n",
    "```python\n",
    "...:     search_filters={'bbox': [-91, 32.25, -90.8, 32.4]},\n",
    "```\n",
    "\n",
    "To manually search the catalog we can call the Quest API function :func:`quest.api.search_catalog` and pass it the\n",
    "service URI and the filters dictionary:"
   ]
  },
  {
   "cell_type": "code",
   "execution_count": null,
   "metadata": {},
   "outputs": [],
   "source": [
    "quest.api.search_catalog(uris='svc://usgs-nwis:iv', filters={'bbox': [-91, 32.3, -90.8, 32.34]})"
   ]
  },
  {
   "cell_type": "markdown",
   "metadata": {},
   "source": [
    "The return value from :func:`quest.api.search_catalog` is a list of :term:`catalog entry` URIs. The :term:`catalog entry` URI\n",
    "looks just like the :term:`service` URI that it came from with an appended catalog ID number. This :term:`catalog entry` URI is\n",
    "used to download the data associated to that :term:`catalog entry`."
   ]
  },
  {
   "cell_type": "markdown",
   "metadata": {},
   "source": [
    "## Add Datasets to Collection"
   ]
  },
  {
   "cell_type": "markdown",
   "metadata": {},
   "source": [
    "Before we can download the data associated with a :term:`catalog entry` we need to create a :term:`dataset` derived from that\n",
    ":term:`catalog entry`. A Quest :term:`dataset` represents a piece of data and stores all of the metadata associated with those\n",
    "data. Every Quest :term:`dataset` has an associated :term:`catalog entry` that links it back to the :term:`service` where the data\n",
    "came from, and an associated :term:`collection` that acts as a container for the data. We can create new :term:`datasets` by\n",
    "calling :func:`quest.api.add_datasets` and passing it both the `collection` and the :term:`catalog entry` or entries from\n",
    "which to create the :term:`datasets`."
   ]
  },
  {
   "cell_type": "code",
   "execution_count": null,
   "metadata": {},
   "outputs": [],
   "source": [
    "dataset_id = quest.api.add_datasets('slow-start', 'svc://usgs-nwis:iv/07289000')[0]\n",
    "dataset_id"
   ]
  },
  {
   "cell_type": "markdown",
   "metadata": {},
   "source": [
    "The return value is a list of dataset IDs from the newly created datasets (in this case it's just a list of one ID. We\n",
    "can now use this dataset ID to download the data associated with it."
   ]
  },
  {
   "cell_type": "markdown",
   "metadata": {},
   "source": [
    "## Download Datasets"
   ]
  },
  {
   "cell_type": "markdown",
   "metadata": {},
   "source": [
    "To download data using Quest we use the :func:`quest.api.download_datasets` function. We need to pass it the :term:`dataset`\n",
    "IDs for the data that we want to download. We also need to pass it a dictionary of download options. Each service specifies\n",
    "it's own set of download options. To figure out what the download options are for a particular dataset we can either\n",
    "refer to the documentation for that dataset's service or we can call :func:`quest.api.get_download_options` and pass it\n",
    "can pass in either the :term:`service` URI the :term:`catalog entry` URI, or the :term:`dataset` ID."
   ]
  },
  {
   "cell_type": "code",
   "execution_count": null,
   "metadata": {},
   "outputs": [],
   "source": [
    "quest.api.get_download_options(dataset_id)"
   ]
  },
  {
   "cell_type": "markdown",
   "metadata": {},
   "source": [
    "This returns a dictionary keyed by the URIs that were passed to the fucntion. For each URI key the value is a dictionary\n",
    "specifying the download options or `properties` for that URI. In this case the download options we can specify are:\n",
    "\n",
    "  * `parameter`: one of 'gage_height', 'streamflow', or 'water_temperature'\n",
    "  * `start`: the start date for the period of data want\n",
    "  * `end`: the end date for the period of data you want\n",
    "  * `period`: a string representing a period of data you want\n",
    "\n",
    "Here either the start and end date can be specified or a period string can be specified. If neither are specified then\n",
    "the default period 'P365D' (meaning a period of 365 days ending with today) will be used by default. In the quickstart\n",
    "example we specified that we were interested in 'streamflow' data and we didn't specify a period so by default we got\n",
    "the past year of data. We can do the same here by calling :func:`quest.api.download_datasets`:"
   ]
  },
  {
   "cell_type": "code",
   "execution_count": null,
   "metadata": {},
   "outputs": [],
   "source": [
    "quest.api.download_datasets(dataset_id, options={'parameter': 'streamflow'})"
   ]
  },
  {
   "cell_type": "markdown",
   "metadata": {},
   "source": [
    "The return value is a dictionary keyed by the dataset IDs that were passed in where the value is the status. In this case\n",
    "'downloaded' means that the data associated with the dataset were successfully downloaded."
   ]
  },
  {
   "cell_type": "markdown",
   "metadata": {},
   "source": [
    "## Open Datasets"
   ]
  },
  {
   "cell_type": "markdown",
   "metadata": {},
   "source": [
    "When the data associated with a :term:`dataset` are downloaded they are by default stored on disk. Quest can be used to\n",
    "transform, visualize, or publish the data and will only require the :term:`dataset` ID as an argument. If you'd like to use\n",
    "other Python tools to work with your data you can use Quest to open your data and read it into a Python data structure.\n",
    "The data that we downloaded are a timeseries of streamflow values. The default data structure that Quest uses for this\n",
    "type of data is a :obj:`pandas.DataFrame`. Therefore, when we call :func:`quest.api.open_dataset` we will getback our\n",
    "data in a DataFrame."
   ]
  },
  {
   "cell_type": "code",
   "execution_count": null,
   "metadata": {},
   "outputs": [],
   "source": [
    "data = quest.api.open_dataset(dataset_id)"
   ]
  },
  {
   "cell_type": "code",
   "execution_count": null,
   "metadata": {},
   "outputs": [],
   "source": [
    "data.head()"
   ]
  },
  {
   "cell_type": "markdown",
   "metadata": {},
   "source": [
    "# Interactive Workflow with PyViz"
   ]
  },
  {
   "cell_type": "markdown",
   "metadata": {},
   "source": [
    "With a few additional tools from the PyViz tool suite Quest can be used to create an interactive workflow to select, download, and visualize data."
   ]
  },
  {
   "cell_type": "code",
   "execution_count": null,
   "metadata": {},
   "outputs": [],
   "source": [
    "import panel as pn\n",
    "import geoviews as gv\n",
    "import holoviews as hv\n",
    "import hvplot.pandas"
   ]
  },
  {
   "cell_type": "code",
   "execution_count": null,
   "metadata": {},
   "outputs": [],
   "source": [
    "parameter_selector = quest.util.ParameterSelector(default='streamflow')\n",
    "pn.Row(parameter_selector)"
   ]
  },
  {
   "cell_type": "code",
   "execution_count": null,
   "metadata": {},
   "outputs": [],
   "source": [
    "service_selector = quest.util.ServiceSelector(parameter=parameter_selector.value)\n",
    "pn.Row(service_selector)"
   ]
  },
  {
   "cell_type": "code",
   "execution_count": null,
   "metadata": {},
   "outputs": [],
   "source": [
    "download_options = quest.api.get_download_options(service_selector.value, fmt='param')[service_selector.value]\n",
    "download_options.parameter = parameter_selector.value\n",
    "pn.Row(download_options)"
   ]
  },
  {
   "cell_type": "code",
   "execution_count": null,
   "metadata": {},
   "outputs": [],
   "source": [
    "collection_selector = quest.util.CollectionSelector()\n",
    "pn.Row(collection_selector)"
   ]
  },
  {
   "cell_type": "code",
   "execution_count": null,
   "metadata": {},
   "outputs": [],
   "source": [
    "tiles = gv.tile_sources.StamenTerrain().options(width=950, height=600)\n",
    "box_poly = gv.Polygons(\n",
    "    hv.Bounds((-91, 32.25, -90.8, 32.4))\n",
    ").options(fill_alpha=.2)\n",
    "box_stream = hv.streams.BoxEdit(source=box_poly, num_objects=1)\n",
    "tiles * box_poly"
   ]
  },
  {
   "cell_type": "code",
   "execution_count": null,
   "metadata": {},
   "outputs": [],
   "source": [
    "xs, ys = box_stream.element.array().T\n",
    "bbox = [xs[0], ys[1], xs[2], ys[0]]"
   ]
  },
  {
   "cell_type": "code",
   "execution_count": null,
   "metadata": {},
   "outputs": [],
   "source": [
    "data = quest.api.get_data(\n",
    "    collection_name=collection_selector.value,\n",
    "    service_uri=service_selector.value,\n",
    "    search_filters={'bbox': bbox},\n",
    "    download_options=download_options,\n",
    ")[0]\n",
    "\n",
    "data.head()"
   ]
  },
  {
   "cell_type": "code",
   "execution_count": null,
   "metadata": {},
   "outputs": [],
   "source": [
    "data[parameter_selector.value].hvplot()"
   ]
  },
  {
   "cell_type": "code",
   "execution_count": null,
   "metadata": {},
   "outputs": [],
   "source": []
  }
 ],
 "metadata": {
  "kernelspec": {
   "display_name": "Python 3",
   "language": "python",
   "name": "python3"
  },
  "language_info": {
   "codemirror_mode": {
    "name": "ipython",
    "version": 3
   },
   "file_extension": ".py",
   "mimetype": "text/x-python",
   "name": "python",
   "nbconvert_exporter": "python",
   "pygments_lexer": "ipython3",
   "version": "3.6.7"
  }
 },
 "nbformat": 4,
 "nbformat_minor": 2
}
