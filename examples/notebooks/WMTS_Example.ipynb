{
 "cells": [
  {
   "cell_type": "markdown",
   "metadata": {},
   "source": [
    "This notebook demonstrates how to use Quest to download imagery from a Web Map Tile Service (WMTS).\n",
    "\n",
    "In addition to quest the following packages need to be installed to use this notebook:\n",
    " * holoviews\n",
    " * geoviews\n",
    " * panel\n",
    " \n",
    "The can be installed with the following command:\n",
    "```\n",
    "conda install -c conda-forge -c pyviz -c conda-forge holoviews geoviews panel\n",
    "```"
   ]
  },
  {
   "cell_type": "code",
   "execution_count": null,
   "metadata": {},
   "outputs": [],
   "source": [
    "import quest\n",
    "import panel as pn\n",
    "import geoviews as gv\n",
    "import holoviews as hv\n",
    "from cartopy import crs as ccrs\n",
    "from holoviews.streams import BoxEdit\n",
    "from holoviews.operation.datashader import rasterize\n",
    "\n",
    "hv.extension('bokeh')"
   ]
  },
  {
   "cell_type": "code",
   "execution_count": null,
   "metadata": {},
   "outputs": [],
   "source": [
    "quest_service = 'svc://wmts:seamless_imagery'\n",
    "tile_service_options = quest.api.get_download_options(quest_service, fmt='param')[quest_service]\n",
    "tile_service_options.param['bbox'].precedence = -1  # hide bbox input\n",
    "pn.panel(tile_service_options)"
   ]
  },
  {
   "cell_type": "code",
   "execution_count": null,
   "metadata": {},
   "outputs": [],
   "source": [
    "tiles = gv.WMTS(tile_service_options.url).options(width=950, height=600, active_tools=['wheel_zoom'], padding=1)\n",
    "boxes = gv.Polygons(\n",
    "    hv.Bounds((-72.43925984610391, 45.8471360126193, -68.81252476472281, 47.856449699679516))\n",
    ").options(fill_alpha=0.4, line_width=2)\n",
    "box_stream = BoxEdit(source=boxes, num_objects=1)\n",
    "tiles * boxes"
   ]
  },
  {
   "cell_type": "code",
   "execution_count": null,
   "metadata": {},
   "outputs": [],
   "source": [
    "data = box_stream.data\n",
    "bbox = [data['x0'][0], data['y0'][0], data['x1'][0], data['y1'][0]]\n",
    "tile_service_options.bbox = bbox"
   ]
  },
  {
   "cell_type": "code",
   "execution_count": null,
   "metadata": {
    "scrolled": false
   },
   "outputs": [],
   "source": [
    "dataset_metadata = quest.api.get_data(\n",
    "    service_uri=quest_service,\n",
    "    search_filters=None,\n",
    "    download_options=tile_service_options,\n",
    "    collection_name='examples',\n",
    "    use_cache=True,\n",
    "    as_open_datasets=False,\n",
    "    expand=True,\n",
    ")[0]\n",
    "file_path = dataset_metadata['file_path']"
   ]
  },
  {
   "cell_type": "code",
   "execution_count": null,
   "metadata": {},
   "outputs": [],
   "source": [
    "rgb = gv.RGB.load_tiff(file_path, crs=ccrs.GOOGLE_MERCATOR).options(width=950, height=600, alpha=0.7)\n",
    "gv.tile_sources.OSM * rasterize(rgb)"
   ]
  },
  {
   "cell_type": "code",
   "execution_count": null,
   "metadata": {},
   "outputs": [],
   "source": []
  }
 ],
 "metadata": {
  "kernelspec": {
   "display_name": "Python 3",
   "language": "python",
   "name": "python3"
  },
  "language_info": {
   "codemirror_mode": {
    "name": "ipython",
    "version": 3
   },
   "file_extension": ".py",
   "mimetype": "text/x-python",
   "name": "python",
   "nbconvert_exporter": "python",
   "pygments_lexer": "ipython3",
   "version": "3.6.7"
  }
 },
 "nbformat": 4,
 "nbformat_minor": 2
}
