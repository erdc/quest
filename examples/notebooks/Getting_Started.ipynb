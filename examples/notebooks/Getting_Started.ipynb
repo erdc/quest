{
 "cells": [
  {
   "cell_type": "markdown",
   "metadata": {},
   "source": [
    "# Getting Started with using Quest."
   ]
  },
  {
   "cell_type": "code",
   "execution_count": null,
   "metadata": {},
   "outputs": [],
   "source": [
    "import quest"
   ]
  },
  {
   "cell_type": "code",
   "execution_count": null,
   "metadata": {},
   "outputs": [],
   "source": [
    "quest.api.get_quest_version()"
   ]
  },
  {
   "cell_type": "code",
   "execution_count": null,
   "metadata": {},
   "outputs": [],
   "source": [
    "quest.api.get_api_version()"
   ]
  },
  {
   "cell_type": "markdown",
   "metadata": {},
   "source": [
    "## Data Repositories:\n",
    "When Quest is used to search for data it searches among all of the data repositories or data ``providers`` that are registered with Quest. Similar to ``Tools``, ``Providers`` are added to Quest as plugins. ``Providers`` contain one or more ``services``. ``Services`` provide an interface for a single data product. Each service has a ``catalog``, which stores metadata about the datasets that are available from that service and is what enables Quest to search for data.\n"
   ]
  },
  {
   "cell_type": "code",
   "execution_count": null,
   "metadata": {},
   "outputs": [],
   "source": [
    "quest.api.get_providers()"
   ]
  },
  {
   "cell_type": "code",
   "execution_count": null,
   "metadata": {},
   "outputs": [],
   "source": [
    "quest.api.get_services()"
   ]
  },
  {
   "cell_type": "code",
   "execution_count": null,
   "metadata": {},
   "outputs": [],
   "source": [
    "quest.api.get_publishers()"
   ]
  },
  {
   "cell_type": "markdown",
   "metadata": {},
   "source": [
    "## Tool Plugins:\n",
    "\n",
    "Quest ``tools`` are a way to perform some kind of operation on data. It is important to note that a ``tool`` will never perform \"in-place\" changes the datasets that it operates on. This means that datasets that are passed to a ``tool`` will remain unchanged, and the ``tool`` will create new datasets that have the transformed data. New ``tools`` can be added to Quest through tool plugins.\n"
   ]
  },
  {
   "cell_type": "code",
   "execution_count": null,
   "metadata": {},
   "outputs": [],
   "source": [
    "quest.api.get_tools()"
   ]
  },
  {
   "cell_type": "markdown",
   "metadata": {},
   "source": [
    "## Local Data Organization\n",
    "\n",
    "Quest uses a hierarchical structure to organize and manage datasets, and data sources. The dataset hierarchy begins with ``projects`` which contains ``collections`` which have ``datasets``. A more detailed description of each level is given below."
   ]
  },
  {
   "cell_type": "code",
   "execution_count": null,
   "metadata": {},
   "outputs": [],
   "source": [
    "projects = quest.api.get_projects()\n",
    "projects"
   ]
  },
  {
   "cell_type": "code",
   "execution_count": null,
   "metadata": {},
   "outputs": [],
   "source": [
    "project_name = 'quest-demo'\n",
    "if project_name in projects:\n",
    "    quest.api.delete_project(project_name)\n",
    "    \n",
    "if project_name not in quest.api.get_projects():\n",
    "    quest.api.new_project(\n",
    "        name=project_name, \n",
    "        display_name=project_name.title(), \n",
    "        description='For demostrating how to use Quest.'\n",
    "    )"
   ]
  },
  {
   "cell_type": "code",
   "execution_count": null,
   "metadata": {},
   "outputs": [],
   "source": [
    "collections = quest.api.get_collections()\n",
    "collections"
   ]
  },
  {
   "cell_type": "code",
   "execution_count": null,
   "metadata": {},
   "outputs": [],
   "source": [
    "collection_name = 'col-test'\n",
    "if collection_name in collections:\n",
    "    quest.api.delete(collection_name)\n",
    "\n",
    "quest.api.new_collection(\n",
    "    name=collection_name, \n",
    "    display_name=collection_name.title(),\n",
    "    description='For demonstrating how to add collections to Quest.'\n",
    ")"
   ]
  },
  {
   "cell_type": "code",
   "execution_count": null,
   "metadata": {},
   "outputs": [],
   "source": []
  }
 ],
 "metadata": {
  "kernelspec": {
   "display_name": "Python 3",
   "language": "python",
   "name": "python3"
  },
  "language_info": {
   "codemirror_mode": {
    "name": "ipython",
    "version": 3
   },
   "file_extension": ".py",
   "mimetype": "text/x-python",
   "name": "python",
   "nbconvert_exporter": "python",
   "pygments_lexer": "ipython3",
   "version": "3.6.7"
  }
 },
 "nbformat": 4,
 "nbformat_minor": 2
}
