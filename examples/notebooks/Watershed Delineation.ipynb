{
 "cells": [
  {
   "cell_type": "markdown",
   "metadata": {
    "collapsed": true
   },
   "source": [
    "# Watershed Delineation\n",
    "The notebook shows how to perform a watershed delineation with `quest` including downloading elevation data, hydrologically preparing the dataset, and finally extracting watersheds for provided outlet points. This notebook uses additional visualization and input tools from [Pyviz](http://pyviz.org).\n",
    "\n",
    "## setup\n",
    "\n",
    "In addition to `quest` the following packages will also need to be installed in the environment to run this notebook:\n",
    "* holoviews\n",
    "* geoviews\n",
    "* panel\n",
    "\n",
    "These packages can be installed with the following command:\n",
    "```\n",
    "conda install -c pyviz -c conda-forge holoviews geoviews panel\n",
    "```"
   ]
  },
  {
   "cell_type": "code",
   "execution_count": null,
   "metadata": {},
   "outputs": [],
   "source": [
    "import quest\n",
    "import panel as pn\n",
    "import geoviews as gv\n",
    "import holoviews as hv\n",
    "from holoviews.streams import (PolyEdit, BoxEdit, PointDraw)\n",
    "from holoviews.operation.datashader import regrid\n",
    "\n",
    "regrid.aggregator = 'max'\n",
    "hv.extension('bokeh')"
   ]
  },
  {
   "cell_type": "markdown",
   "metadata": {
    "collapsed": true
   },
   "source": [
    "## Draw bounds to compute watershed\n",
    "Allows drawing a bounding box and adding points to serve as input to compute a watershed:"
   ]
  },
  {
   "cell_type": "code",
   "execution_count": null,
   "metadata": {},
   "outputs": [],
   "source": [
    "tiles = gv.tile_sources.StamenTerrain().options(width=950, height=600, active_tools=['wheel_zoom'], padding=1)\n",
    "box_poly = gv.Polygons(\n",
    "    hv.Bounds((-90.88870324076336, 32.245105881134, -90.78133198716839, 32.37688211930573))\n",
    ").options(fill_alpha=.2)\n",
    "box_stream = BoxEdit(source=box_poly, num_objects=1)\n",
    "tiles * box_poly"
   ]
  },
  {
   "cell_type": "code",
   "execution_count": null,
   "metadata": {},
   "outputs": [],
   "source": [
    "xs, ys = box_stream.element.array().T\n",
    "bbox = [xs[0], ys[1], xs[2], ys[0]]"
   ]
  },
  {
   "cell_type": "code",
   "execution_count": null,
   "metadata": {},
   "outputs": [],
   "source": [
    "elevation_service = quest.util.ServiceSelector(parameter='elevation', default='svc://usgs-ned:1-arc-second')\n",
    "pn.panel(elevation_service)"
   ]
  },
  {
   "cell_type": "code",
   "execution_count": null,
   "metadata": {},
   "outputs": [],
   "source": [
    "elevation_raster = quest.api.get_seamless_data(\n",
    "    service_uri=elevation_service.value,\n",
    "    bbox=bbox,\n",
    "    collection_name='examples',\n",
    "    use_cache=True,\n",
    "    as_open_dataset=False,\n",
    ")"
   ]
  },
  {
   "cell_type": "code",
   "execution_count": null,
   "metadata": {},
   "outputs": [],
   "source": [
    "fill_dataset = quest.tools.wbt_fill_depressions(dataset=elevation_raster)['datasets'][0]\n",
    "fill = quest.api.open_dataset(fill_dataset, with_nodata=True, isel_band=0)"
   ]
  },
  {
   "cell_type": "code",
   "execution_count": null,
   "metadata": {},
   "outputs": [],
   "source": [
    "options = quest.tools.wbt_extract_streams_workflow\n",
    "options.dataset = fill_dataset\n",
    "options.param['dataset'].precedence = -1\n",
    "options.set_threshold_bounds()\n",
    "pn.panel(options)"
   ]
  },
  {
   "cell_type": "code",
   "execution_count": null,
   "metadata": {},
   "outputs": [],
   "source": [
    "st_dataset = options()['datasets'][0]\n",
    "st = quest.api.open_dataset(st_dataset, with_nodata=True, isel_band=0)"
   ]
  },
  {
   "cell_type": "code",
   "execution_count": null,
   "metadata": {},
   "outputs": [],
   "source": [
    "%%opts Points [width=900 height=600] (size=10 color='red')\n",
    "tiles = gv.tile_sources.StamenTerrain.options(width=950, height=600)\n",
    "tiles.extents=tuple(bbox)\n",
    "points = gv.Points([])\n",
    "point_stream = PointDraw(source=points)\n",
    "elevation = gv.Image(fill, ['x', 'y']).options(alpha=0.8)\n",
    "streams = gv.Image(st, ['x', 'y']).options(cmap='blues_r')\n",
    "tiles * regrid(elevation) * regrid(streams) * points"
   ]
  },
  {
   "cell_type": "code",
   "execution_count": null,
   "metadata": {},
   "outputs": [],
   "source": [
    "if point_stream.element:\n",
    "    original_outlets = [(x, y) for x, y in zip(*point_stream.element.array().T)]\n",
    "else:\n",
    "    original_outlets = (-90.883981967599979, 32.291221825861946)"
   ]
  },
  {
   "cell_type": "code",
   "execution_count": null,
   "metadata": {},
   "outputs": [],
   "source": [
    "result = quest.tools.wbt_watershed_delineation_workflow(\n",
    "    elevation_dataset=fill_dataset,\n",
    "    streams_dataset=st_dataset,\n",
    "    snap_distance=0.1,\n",
    "    outlets=original_outlets,\n",
    ")\n",
    "watersheds, snapped_outlets, catalog_entry = result['catalog_entries']"
   ]
  },
  {
   "cell_type": "code",
   "execution_count": null,
   "metadata": {},
   "outputs": [],
   "source": [
    "tiles = gv.tile_sources.StamenTerrain().options(width=950, height=600)\n",
    "tiles = gv.tile_sources.StamenTerrain().options(width=950, height=600)\n",
    "tiles.extents=tuple(bbox)\n",
    "outline = gv.Polygons(watersheds).options(alpha=0.5)\n",
    "original_points = gv.Points(original_outlets).options(color='blue', size=6)\n",
    "snapped_points = gv.Points(snapped_outlets).options(color='red', size=6)\n",
    "tiles * regrid(elevation) * outline * regrid(streams) * original_points * snapped_points"
   ]
  },
  {
   "cell_type": "code",
   "execution_count": null,
   "metadata": {},
   "outputs": [],
   "source": []
  }
 ],
 "metadata": {
  "kernelspec": {
   "display_name": "Python 3",
   "language": "python",
   "name": "python3"
  },
  "language_info": {
   "codemirror_mode": {
    "name": "ipython",
    "version": 3
   },
   "file_extension": ".py",
   "mimetype": "text/x-python",
   "name": "python",
   "nbconvert_exporter": "python",
   "pygments_lexer": "ipython3",
   "version": "3.6.7"
  }
 },
 "nbformat": 4,
 "nbformat_minor": 1
}
