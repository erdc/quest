{
 "cells": [
  {
   "cell_type": "markdown",
   "metadata": {},
   "source": [
    "# Timeseries Workflow\n",
    "\n",
    "## setup\n",
    "\n",
    "In addition to `quest` the following packages will also need to be installed in the environment to run this notebook:\n",
    "* hvplot\n",
    "* panel\n",
    "\n",
    "These packages can be installed with the following command:\n",
    "```\n",
    "conda install -c pyviz -c conda-forge hvplot panel\n",
    "```"
   ]
  },
  {
   "cell_type": "code",
   "execution_count": null,
   "metadata": {},
   "outputs": [],
   "source": [
    "import quest\n",
    "import hvplot.pandas\n",
    "import panel as pn"
   ]
  },
  {
   "cell_type": "markdown",
   "metadata": {},
   "source": [
    "# Query USGS Data Service for Data"
   ]
  },
  {
   "cell_type": "code",
   "execution_count": null,
   "metadata": {},
   "outputs": [],
   "source": [
    "service_selector = quest.util.ServiceSelector(default='svc://usgs-nwis:iv')\n",
    "pn.panel(service_selector)"
   ]
  },
  {
   "cell_type": "code",
   "execution_count": null,
   "metadata": {},
   "outputs": [],
   "source": [
    "service = service_selector.value\n",
    "download_options = quest.api.get_download_options(service, fmt='param')[service]\n",
    "download_options.parameter = 'streamflow'  # get streamflow data so we can calculate a flow duration curve\n",
    "pn.panel(download_options)"
   ]
  },
  {
   "cell_type": "code",
   "execution_count": null,
   "metadata": {},
   "outputs": [],
   "source": [
    "dataset = quest.api.get_data(\n",
    "    service_uri=service,\n",
    "    search_filters={'bbox': [-91, 32.3, -90.8, 32.34]},\n",
    "    download_options=download_options,\n",
    "    collection_name='examples',\n",
    "    use_cache=True,\n",
    "    as_open_datasets=False,\n",
    "    raise_on_error=True,\n",
    ")[0]\n",
    "data = quest.api.open_dataset(dataset)\n",
    "data.head()"
   ]
  },
  {
   "cell_type": "code",
   "execution_count": null,
   "metadata": {},
   "outputs": [],
   "source": [
    "data[download_options.parameter].hvplot()"
   ]
  },
  {
   "cell_type": "markdown",
   "metadata": {},
   "source": [
    "# Run Tools to Transform Downloaded Data"
   ]
  },
  {
   "cell_type": "code",
   "execution_count": null,
   "metadata": {},
   "outputs": [],
   "source": [
    "tool = quest.tools.ts_resample\n",
    "tool.dataset = dataset\n",
    "pn.panel(tool)"
   ]
  },
  {
   "cell_type": "code",
   "execution_count": null,
   "metadata": {},
   "outputs": [],
   "source": [
    "new_dataset = tool()['datasets'][0]\n",
    "new_data = quest.api.open_dataset(new_dataset)\n",
    "new_data.index = new_data.index.to_timestamp()\n",
    "new_data.head()"
   ]
  },
  {
   "cell_type": "code",
   "execution_count": null,
   "metadata": {},
   "outputs": [],
   "source": [
    "parameter = quest.api.get_metadata(new_dataset)[new_dataset]['parameter']\n",
    "new_data[parameter].hvplot()"
   ]
  },
  {
   "cell_type": "code",
   "execution_count": null,
   "metadata": {},
   "outputs": [],
   "source": [
    "tool = quest.tools.flow_duration\n",
    "tool.dataset = new_dataset\n",
    "pn.panel(tool)"
   ]
  },
  {
   "cell_type": "code",
   "execution_count": null,
   "metadata": {},
   "outputs": [],
   "source": [
    "new_dataset = tool()['datasets'][0]\n",
    "new_data = quest.api.open_dataset(new_dataset)\n",
    "parameter = quest.api.get_metadata(new_dataset)[new_dataset]['parameter']\n",
    "new_data[parameter].hvplot()"
   ]
  },
  {
   "cell_type": "code",
   "execution_count": null,
   "metadata": {},
   "outputs": [],
   "source": []
  }
 ],
 "metadata": {
  "kernelspec": {
   "display_name": "Python 3",
   "language": "python",
   "name": "python3"
  },
  "language_info": {
   "codemirror_mode": {
    "name": "ipython",
    "version": 3
   },
   "file_extension": ".py",
   "mimetype": "text/x-python",
   "name": "python",
   "nbconvert_exporter": "python",
   "pygments_lexer": "ipython3",
   "version": "3.6.7"
  }
 },
 "nbformat": 4,
 "nbformat_minor": 2
}
